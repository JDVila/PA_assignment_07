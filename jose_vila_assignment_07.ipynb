{
 "cells": [
  {
   "cell_type": "markdown",
   "id": "aefc428a",
   "metadata": {},
   "source": [
    "# PA_assignment_07"
   ]
  },
  {
   "cell_type": "code",
   "execution_count": 1,
   "id": "fbd9bf8b",
   "metadata": {},
   "outputs": [],
   "source": [
    "%matplotlib notebook"
   ]
  },
  {
   "cell_type": "code",
   "execution_count": 2,
   "id": "27391140",
   "metadata": {},
   "outputs": [],
   "source": [
    "import numpy as np"
   ]
  },
  {
   "cell_type": "code",
   "execution_count": 3,
   "id": "d0a6390c",
   "metadata": {},
   "outputs": [],
   "source": [
    "import pandas as pd"
   ]
  },
  {
   "cell_type": "code",
   "execution_count": 4,
   "id": "9c88ceac",
   "metadata": {},
   "outputs": [],
   "source": [
    "import matplotlib.pyplot as plt"
   ]
  },
  {
   "cell_type": "code",
   "execution_count": 5,
   "id": "0d1c62c1",
   "metadata": {},
   "outputs": [],
   "source": [
    "import seaborn as sns"
   ]
  },
  {
   "cell_type": "code",
   "execution_count": 6,
   "id": "103ffa18",
   "metadata": {},
   "outputs": [],
   "source": [
    "from sklearn.model_selection import train_test_split"
   ]
  },
  {
   "cell_type": "code",
   "execution_count": 7,
   "id": "ab37f75f",
   "metadata": {},
   "outputs": [],
   "source": [
    "from sklearn.linear_model import LinearRegression"
   ]
  },
  {
   "cell_type": "code",
   "execution_count": 8,
   "id": "8e312747",
   "metadata": {},
   "outputs": [],
   "source": [
    "from sklearn.metrics import mean_squared_error"
   ]
  },
  {
   "cell_type": "code",
   "execution_count": 9,
   "id": "830628ea",
   "metadata": {},
   "outputs": [],
   "source": [
    "from sklearn.neighbors import KNeighborsRegressor"
   ]
  },
  {
   "cell_type": "markdown",
   "id": "cdaaaf21",
   "metadata": {},
   "source": [
    "### Step 01 - Import and Clean / Format the Data"
   ]
  },
  {
   "cell_type": "code",
   "execution_count": 10,
   "id": "c7e3e788",
   "metadata": {},
   "outputs": [],
   "source": [
    "bike = pd.read_csv('04_2017_bike_data.csv')"
   ]
  },
  {
   "cell_type": "code",
   "execution_count": 11,
   "id": "d98d1512",
   "metadata": {},
   "outputs": [
    {
     "data": {
      "text/html": [
       "<div>\n",
       "<style scoped>\n",
       "    .dataframe tbody tr th:only-of-type {\n",
       "        vertical-align: middle;\n",
       "    }\n",
       "\n",
       "    .dataframe tbody tr th {\n",
       "        vertical-align: top;\n",
       "    }\n",
       "\n",
       "    .dataframe thead th {\n",
       "        text-align: right;\n",
       "    }\n",
       "</style>\n",
       "<table border=\"1\" class=\"dataframe\">\n",
       "  <thead>\n",
       "    <tr style=\"text-align: right;\">\n",
       "      <th></th>\n",
       "      <th>date</th>\n",
       "      <th>day</th>\n",
       "      <th>temp_high</th>\n",
       "      <th>temp_low</th>\n",
       "      <th>rain_amt</th>\n",
       "      <th>brooklyn_bridge</th>\n",
       "      <th>manhattan_bridge</th>\n",
       "      <th>williamsburg_bridge</th>\n",
       "      <th>queensboro_bridge</th>\n",
       "      <th>total_cyclists</th>\n",
       "      <th>Unnamed: 10</th>\n",
       "    </tr>\n",
       "  </thead>\n",
       "  <tbody>\n",
       "    <tr>\n",
       "      <th>0</th>\n",
       "      <td>1-Apr</td>\n",
       "      <td>Saturday</td>\n",
       "      <td>46.0</td>\n",
       "      <td>37.0</td>\n",
       "      <td>0</td>\n",
       "      <td>606</td>\n",
       "      <td>1,446</td>\n",
       "      <td>1,915</td>\n",
       "      <td>1,430</td>\n",
       "      <td>5,397</td>\n",
       "      <td>NaN</td>\n",
       "    </tr>\n",
       "    <tr>\n",
       "      <th>1</th>\n",
       "      <td>2-Apr</td>\n",
       "      <td>Sunday</td>\n",
       "      <td>62.1</td>\n",
       "      <td>41.0</td>\n",
       "      <td>0</td>\n",
       "      <td>2,021</td>\n",
       "      <td>3,943</td>\n",
       "      <td>4,207</td>\n",
       "      <td>2,862</td>\n",
       "      <td>13,033</td>\n",
       "      <td>NaN</td>\n",
       "    </tr>\n",
       "    <tr>\n",
       "      <th>2</th>\n",
       "      <td>3-Apr</td>\n",
       "      <td>Monday</td>\n",
       "      <td>63.0</td>\n",
       "      <td>50.0</td>\n",
       "      <td>0.03</td>\n",
       "      <td>2,470</td>\n",
       "      <td>4,988</td>\n",
       "      <td>5,178</td>\n",
       "      <td>3,689</td>\n",
       "      <td>16,325</td>\n",
       "      <td>NaN</td>\n",
       "    </tr>\n",
       "    <tr>\n",
       "      <th>3</th>\n",
       "      <td>4-Apr</td>\n",
       "      <td>Tuesday</td>\n",
       "      <td>51.1</td>\n",
       "      <td>46.0</td>\n",
       "      <td>1.18</td>\n",
       "      <td>723</td>\n",
       "      <td>1,913</td>\n",
       "      <td>2,279</td>\n",
       "      <td>1,666</td>\n",
       "      <td>6,581</td>\n",
       "      <td>NaN</td>\n",
       "    </tr>\n",
       "    <tr>\n",
       "      <th>4</th>\n",
       "      <td>5-Apr</td>\n",
       "      <td>Wednesday</td>\n",
       "      <td>63.0</td>\n",
       "      <td>46.0</td>\n",
       "      <td>0</td>\n",
       "      <td>2,807</td>\n",
       "      <td>5,276</td>\n",
       "      <td>5,711</td>\n",
       "      <td>4,197</td>\n",
       "      <td>17,991</td>\n",
       "      <td>NaN</td>\n",
       "    </tr>\n",
       "  </tbody>\n",
       "</table>\n",
       "</div>"
      ],
      "text/plain": [
       "    date        day  temp_high  temp_low rain_amt brooklyn_bridge  \\\n",
       "0  1-Apr   Saturday       46.0      37.0        0             606   \n",
       "1  2-Apr     Sunday       62.1      41.0        0           2,021   \n",
       "2  3-Apr     Monday       63.0      50.0     0.03           2,470   \n",
       "3  4-Apr    Tuesday       51.1      46.0     1.18             723   \n",
       "4  5-Apr  Wednesday       63.0      46.0        0           2,807   \n",
       "\n",
       "  manhattan_bridge williamsburg_bridge queensboro_bridge total_cyclists  \\\n",
       "0            1,446               1,915             1,430          5,397   \n",
       "1            3,943               4,207             2,862         13,033   \n",
       "2            4,988               5,178             3,689         16,325   \n",
       "3            1,913               2,279             1,666          6,581   \n",
       "4            5,276               5,711             4,197         17,991   \n",
       "\n",
       "  Unnamed: 10  \n",
       "0         NaN  \n",
       "1         NaN  \n",
       "2         NaN  \n",
       "3         NaN  \n",
       "4         NaN  "
      ]
     },
     "execution_count": 11,
     "metadata": {},
     "output_type": "execute_result"
    }
   ],
   "source": [
    "bike.head()"
   ]
  },
  {
   "cell_type": "code",
   "execution_count": 12,
   "id": "ca06cb57",
   "metadata": {},
   "outputs": [],
   "source": [
    "bike['date'] = bike['date'].str.replace('Apr', '3')"
   ]
  },
  {
   "cell_type": "code",
   "execution_count": 13,
   "id": "e41c6d03",
   "metadata": {},
   "outputs": [],
   "source": [
    "split_date = bike['date'].str.split('-', n=1, expand=True)"
   ]
  },
  {
   "cell_type": "code",
   "execution_count": 14,
   "id": "6aa91642",
   "metadata": {},
   "outputs": [],
   "source": [
    "split_date[0] = np.where(split_date[0].str.len() < 2, '0' + split_date[0], split_date[0])"
   ]
  },
  {
   "cell_type": "code",
   "execution_count": 15,
   "id": "53dc3e8a",
   "metadata": {},
   "outputs": [],
   "source": [
    "bike['date'] = split_date[1] + split_date[0]"
   ]
  },
  {
   "cell_type": "code",
   "execution_count": 16,
   "id": "132a4fa5",
   "metadata": {},
   "outputs": [
    {
     "data": {
      "text/html": [
       "<div>\n",
       "<style scoped>\n",
       "    .dataframe tbody tr th:only-of-type {\n",
       "        vertical-align: middle;\n",
       "    }\n",
       "\n",
       "    .dataframe tbody tr th {\n",
       "        vertical-align: top;\n",
       "    }\n",
       "\n",
       "    .dataframe thead th {\n",
       "        text-align: right;\n",
       "    }\n",
       "</style>\n",
       "<table border=\"1\" class=\"dataframe\">\n",
       "  <thead>\n",
       "    <tr style=\"text-align: right;\">\n",
       "      <th></th>\n",
       "      <th>date</th>\n",
       "      <th>day</th>\n",
       "      <th>temp_high</th>\n",
       "      <th>temp_low</th>\n",
       "      <th>rain_amt</th>\n",
       "      <th>brooklyn_bridge</th>\n",
       "      <th>manhattan_bridge</th>\n",
       "      <th>williamsburg_bridge</th>\n",
       "      <th>queensboro_bridge</th>\n",
       "      <th>total_cyclists</th>\n",
       "      <th>Unnamed: 10</th>\n",
       "    </tr>\n",
       "  </thead>\n",
       "  <tbody>\n",
       "    <tr>\n",
       "      <th>0</th>\n",
       "      <td>301</td>\n",
       "      <td>Saturday</td>\n",
       "      <td>46.0</td>\n",
       "      <td>37.0</td>\n",
       "      <td>0</td>\n",
       "      <td>606</td>\n",
       "      <td>1,446</td>\n",
       "      <td>1,915</td>\n",
       "      <td>1,430</td>\n",
       "      <td>5,397</td>\n",
       "      <td>NaN</td>\n",
       "    </tr>\n",
       "    <tr>\n",
       "      <th>1</th>\n",
       "      <td>302</td>\n",
       "      <td>Sunday</td>\n",
       "      <td>62.1</td>\n",
       "      <td>41.0</td>\n",
       "      <td>0</td>\n",
       "      <td>2,021</td>\n",
       "      <td>3,943</td>\n",
       "      <td>4,207</td>\n",
       "      <td>2,862</td>\n",
       "      <td>13,033</td>\n",
       "      <td>NaN</td>\n",
       "    </tr>\n",
       "    <tr>\n",
       "      <th>2</th>\n",
       "      <td>303</td>\n",
       "      <td>Monday</td>\n",
       "      <td>63.0</td>\n",
       "      <td>50.0</td>\n",
       "      <td>0.03</td>\n",
       "      <td>2,470</td>\n",
       "      <td>4,988</td>\n",
       "      <td>5,178</td>\n",
       "      <td>3,689</td>\n",
       "      <td>16,325</td>\n",
       "      <td>NaN</td>\n",
       "    </tr>\n",
       "    <tr>\n",
       "      <th>3</th>\n",
       "      <td>304</td>\n",
       "      <td>Tuesday</td>\n",
       "      <td>51.1</td>\n",
       "      <td>46.0</td>\n",
       "      <td>1.18</td>\n",
       "      <td>723</td>\n",
       "      <td>1,913</td>\n",
       "      <td>2,279</td>\n",
       "      <td>1,666</td>\n",
       "      <td>6,581</td>\n",
       "      <td>NaN</td>\n",
       "    </tr>\n",
       "    <tr>\n",
       "      <th>4</th>\n",
       "      <td>305</td>\n",
       "      <td>Wednesday</td>\n",
       "      <td>63.0</td>\n",
       "      <td>46.0</td>\n",
       "      <td>0</td>\n",
       "      <td>2,807</td>\n",
       "      <td>5,276</td>\n",
       "      <td>5,711</td>\n",
       "      <td>4,197</td>\n",
       "      <td>17,991</td>\n",
       "      <td>NaN</td>\n",
       "    </tr>\n",
       "    <tr>\n",
       "      <th>5</th>\n",
       "      <td>306</td>\n",
       "      <td>Thursday</td>\n",
       "      <td>48.9</td>\n",
       "      <td>41.0</td>\n",
       "      <td>0.73</td>\n",
       "      <td>461</td>\n",
       "      <td>1,324</td>\n",
       "      <td>1,739</td>\n",
       "      <td>1,372</td>\n",
       "      <td>4,896</td>\n",
       "      <td>NaN</td>\n",
       "    </tr>\n",
       "    <tr>\n",
       "      <th>6</th>\n",
       "      <td>307</td>\n",
       "      <td>Friday</td>\n",
       "      <td>48.0</td>\n",
       "      <td>43.0</td>\n",
       "      <td>T</td>\n",
       "      <td>1,222</td>\n",
       "      <td>2,955</td>\n",
       "      <td>3,399</td>\n",
       "      <td>2,765</td>\n",
       "      <td>10,341</td>\n",
       "      <td>NaN</td>\n",
       "    </tr>\n",
       "    <tr>\n",
       "      <th>7</th>\n",
       "      <td>308</td>\n",
       "      <td>Saturday</td>\n",
       "      <td>55.9</td>\n",
       "      <td>39.9</td>\n",
       "      <td>0</td>\n",
       "      <td>1,674</td>\n",
       "      <td>3,163</td>\n",
       "      <td>4,082</td>\n",
       "      <td>2,691</td>\n",
       "      <td>11,610</td>\n",
       "      <td>NaN</td>\n",
       "    </tr>\n",
       "    <tr>\n",
       "      <th>8</th>\n",
       "      <td>309</td>\n",
       "      <td>Sunday</td>\n",
       "      <td>66.0</td>\n",
       "      <td>45.0</td>\n",
       "      <td>0</td>\n",
       "      <td>2,375</td>\n",
       "      <td>4,377</td>\n",
       "      <td>4,886</td>\n",
       "      <td>3,261</td>\n",
       "      <td>14,899</td>\n",
       "      <td>NaN</td>\n",
       "    </tr>\n",
       "    <tr>\n",
       "      <th>9</th>\n",
       "      <td>310</td>\n",
       "      <td>Monday</td>\n",
       "      <td>73.9</td>\n",
       "      <td>55.0</td>\n",
       "      <td>0</td>\n",
       "      <td>3,324</td>\n",
       "      <td>6,359</td>\n",
       "      <td>6,881</td>\n",
       "      <td>4,731</td>\n",
       "      <td>21,295</td>\n",
       "      <td>NaN</td>\n",
       "    </tr>\n",
       "    <tr>\n",
       "      <th>10</th>\n",
       "      <td>311</td>\n",
       "      <td>Tuesday</td>\n",
       "      <td>80.1</td>\n",
       "      <td>62.1</td>\n",
       "      <td>0</td>\n",
       "      <td>3,887</td>\n",
       "      <td>7,247</td>\n",
       "      <td>8,079</td>\n",
       "      <td>5,501</td>\n",
       "      <td>24,714</td>\n",
       "      <td>NaN</td>\n",
       "    </tr>\n",
       "    <tr>\n",
       "      <th>11</th>\n",
       "      <td>312</td>\n",
       "      <td>Wednesday</td>\n",
       "      <td>73.9</td>\n",
       "      <td>57.9</td>\n",
       "      <td>0.02</td>\n",
       "      <td>2,565</td>\n",
       "      <td>5,633</td>\n",
       "      <td>6,620</td>\n",
       "      <td>4,537</td>\n",
       "      <td>19,355</td>\n",
       "      <td>NaN</td>\n",
       "    </tr>\n",
       "    <tr>\n",
       "      <th>12</th>\n",
       "      <td>313</td>\n",
       "      <td>Thursday</td>\n",
       "      <td>64.0</td>\n",
       "      <td>48.9</td>\n",
       "      <td>0</td>\n",
       "      <td>3,353</td>\n",
       "      <td>6,052</td>\n",
       "      <td>6,775</td>\n",
       "      <td>4,700</td>\n",
       "      <td>20,880</td>\n",
       "      <td>NaN</td>\n",
       "    </tr>\n",
       "    <tr>\n",
       "      <th>13</th>\n",
       "      <td>314</td>\n",
       "      <td>Friday</td>\n",
       "      <td>64.9</td>\n",
       "      <td>48.9</td>\n",
       "      <td>0</td>\n",
       "      <td>2,942</td>\n",
       "      <td>5,054</td>\n",
       "      <td>5,877</td>\n",
       "      <td>4,142</td>\n",
       "      <td>18,015</td>\n",
       "      <td>NaN</td>\n",
       "    </tr>\n",
       "    <tr>\n",
       "      <th>14</th>\n",
       "      <td>315</td>\n",
       "      <td>Saturday</td>\n",
       "      <td>64.9</td>\n",
       "      <td>52.0</td>\n",
       "      <td>0</td>\n",
       "      <td>2,253</td>\n",
       "      <td>3,853</td>\n",
       "      <td>4,965</td>\n",
       "      <td>3,291</td>\n",
       "      <td>14,362</td>\n",
       "      <td>NaN</td>\n",
       "    </tr>\n",
       "    <tr>\n",
       "      <th>15</th>\n",
       "      <td>316</td>\n",
       "      <td>Sunday</td>\n",
       "      <td>84.9</td>\n",
       "      <td>62.1</td>\n",
       "      <td>T</td>\n",
       "      <td>2,877</td>\n",
       "      <td>4,585</td>\n",
       "      <td>5,259</td>\n",
       "      <td>3,687</td>\n",
       "      <td>16,408</td>\n",
       "      <td>NaN</td>\n",
       "    </tr>\n",
       "    <tr>\n",
       "      <th>16</th>\n",
       "      <td>317</td>\n",
       "      <td>Monday</td>\n",
       "      <td>73.9</td>\n",
       "      <td>64.0</td>\n",
       "      <td>T</td>\n",
       "      <td>3,152</td>\n",
       "      <td>6,352</td>\n",
       "      <td>6,924</td>\n",
       "      <td>4,658</td>\n",
       "      <td>21,086</td>\n",
       "      <td>NaN</td>\n",
       "    </tr>\n",
       "    <tr>\n",
       "      <th>17</th>\n",
       "      <td>318</td>\n",
       "      <td>Tuesday</td>\n",
       "      <td>66.0</td>\n",
       "      <td>50.0</td>\n",
       "      <td>0</td>\n",
       "      <td>3,415</td>\n",
       "      <td>6,691</td>\n",
       "      <td>7,341</td>\n",
       "      <td>5,012</td>\n",
       "      <td>22,459</td>\n",
       "      <td>NaN</td>\n",
       "    </tr>\n",
       "    <tr>\n",
       "      <th>18</th>\n",
       "      <td>319</td>\n",
       "      <td>Wednesday</td>\n",
       "      <td>52.0</td>\n",
       "      <td>45.0</td>\n",
       "      <td>T</td>\n",
       "      <td>1,965</td>\n",
       "      <td>4,632</td>\n",
       "      <td>5,234</td>\n",
       "      <td>3,996</td>\n",
       "      <td>15,827</td>\n",
       "      <td></td>\n",
       "    </tr>\n",
       "    <tr>\n",
       "      <th>19</th>\n",
       "      <td>320</td>\n",
       "      <td>Thursday</td>\n",
       "      <td>64.9</td>\n",
       "      <td>50.0</td>\n",
       "      <td>0.17</td>\n",
       "      <td>1,567</td>\n",
       "      <td>3,365</td>\n",
       "      <td>4,302</td>\n",
       "      <td>3,056</td>\n",
       "      <td>12,290</td>\n",
       "      <td>NaN</td>\n",
       "    </tr>\n",
       "    <tr>\n",
       "      <th>20</th>\n",
       "      <td>321</td>\n",
       "      <td>Friday</td>\n",
       "      <td>53.1</td>\n",
       "      <td>48.0</td>\n",
       "      <td>0.29</td>\n",
       "      <td>1,426</td>\n",
       "      <td>3,142</td>\n",
       "      <td>3,674</td>\n",
       "      <td>2,672</td>\n",
       "      <td>10,914</td>\n",
       "      <td>NaN</td>\n",
       "    </tr>\n",
       "    <tr>\n",
       "      <th>21</th>\n",
       "      <td>322</td>\n",
       "      <td>Saturday</td>\n",
       "      <td>55.9</td>\n",
       "      <td>52.0</td>\n",
       "      <td>0.11</td>\n",
       "      <td>1,318</td>\n",
       "      <td>2,297</td>\n",
       "      <td>2,963</td>\n",
       "      <td>2,366</td>\n",
       "      <td>8,944</td>\n",
       "      <td>NaN</td>\n",
       "    </tr>\n",
       "    <tr>\n",
       "      <th>22</th>\n",
       "      <td>323</td>\n",
       "      <td>Sunday</td>\n",
       "      <td>64.9</td>\n",
       "      <td>46.9</td>\n",
       "      <td>0</td>\n",
       "      <td>2,520</td>\n",
       "      <td>4,681</td>\n",
       "      <td>5,105</td>\n",
       "      <td>3,434</td>\n",
       "      <td>15,740</td>\n",
       "      <td>NaN</td>\n",
       "    </tr>\n",
       "    <tr>\n",
       "      <th>23</th>\n",
       "      <td>324</td>\n",
       "      <td>Monday</td>\n",
       "      <td>60.1</td>\n",
       "      <td>50.0</td>\n",
       "      <td>T</td>\n",
       "      <td>2,544</td>\n",
       "      <td>5,366</td>\n",
       "      <td>5,762</td>\n",
       "      <td>4,183</td>\n",
       "      <td>17,855</td>\n",
       "      <td>NaN</td>\n",
       "    </tr>\n",
       "    <tr>\n",
       "      <th>24</th>\n",
       "      <td>325</td>\n",
       "      <td>Tuesday</td>\n",
       "      <td>54.0</td>\n",
       "      <td>50.0</td>\n",
       "      <td>0.91</td>\n",
       "      <td>611</td>\n",
       "      <td>1,402</td>\n",
       "      <td>1,902</td>\n",
       "      <td>1,578</td>\n",
       "      <td>5,493</td>\n",
       "      <td>NaN</td>\n",
       "    </tr>\n",
       "    <tr>\n",
       "      <th>25</th>\n",
       "      <td>326</td>\n",
       "      <td>Wednesday</td>\n",
       "      <td>59.0</td>\n",
       "      <td>54.0</td>\n",
       "      <td>0.34</td>\n",
       "      <td>1,247</td>\n",
       "      <td>2,774</td>\n",
       "      <td>3,429</td>\n",
       "      <td>2,369</td>\n",
       "      <td>9,819</td>\n",
       "      <td>NaN</td>\n",
       "    </tr>\n",
       "    <tr>\n",
       "      <th>26</th>\n",
       "      <td>327</td>\n",
       "      <td>Thursday</td>\n",
       "      <td>68.0</td>\n",
       "      <td>59.0</td>\n",
       "      <td>0</td>\n",
       "      <td>2,959</td>\n",
       "      <td>5,311</td>\n",
       "      <td>6,026</td>\n",
       "      <td>4,285</td>\n",
       "      <td>18,581</td>\n",
       "      <td>NaN</td>\n",
       "    </tr>\n",
       "    <tr>\n",
       "      <th>27</th>\n",
       "      <td>328</td>\n",
       "      <td>Friday</td>\n",
       "      <td>82.9</td>\n",
       "      <td>57.9</td>\n",
       "      <td>0</td>\n",
       "      <td>3,679</td>\n",
       "      <td>6,774</td>\n",
       "      <td>7,196</td>\n",
       "      <td>5,138</td>\n",
       "      <td>22,787</td>\n",
       "      <td>NaN</td>\n",
       "    </tr>\n",
       "    <tr>\n",
       "      <th>28</th>\n",
       "      <td>329</td>\n",
       "      <td>Saturday</td>\n",
       "      <td>84.0</td>\n",
       "      <td>64.0</td>\n",
       "      <td>0.06</td>\n",
       "      <td>3,315</td>\n",
       "      <td>5,605</td>\n",
       "      <td>6,045</td>\n",
       "      <td>4,078</td>\n",
       "      <td>19,043</td>\n",
       "      <td>NaN</td>\n",
       "    </tr>\n",
       "    <tr>\n",
       "      <th>29</th>\n",
       "      <td>330</td>\n",
       "      <td>Sunday</td>\n",
       "      <td>64.0</td>\n",
       "      <td>54.0</td>\n",
       "      <td>0</td>\n",
       "      <td>2,225</td>\n",
       "      <td>4,057</td>\n",
       "      <td>4,513</td>\n",
       "      <td>3,137</td>\n",
       "      <td>13,932</td>\n",
       "      <td>NaN</td>\n",
       "    </tr>\n",
       "  </tbody>\n",
       "</table>\n",
       "</div>"
      ],
      "text/plain": [
       "   date        day  temp_high  temp_low rain_amt brooklyn_bridge  \\\n",
       "0   301   Saturday       46.0      37.0        0             606   \n",
       "1   302     Sunday       62.1      41.0        0           2,021   \n",
       "2   303     Monday       63.0      50.0     0.03           2,470   \n",
       "3   304    Tuesday       51.1      46.0     1.18             723   \n",
       "4   305  Wednesday       63.0      46.0        0           2,807   \n",
       "5   306   Thursday       48.9      41.0     0.73             461   \n",
       "6   307     Friday       48.0      43.0        T           1,222   \n",
       "7   308   Saturday       55.9      39.9        0           1,674   \n",
       "8   309     Sunday       66.0      45.0        0           2,375   \n",
       "9   310     Monday       73.9      55.0        0           3,324   \n",
       "10  311    Tuesday       80.1      62.1        0           3,887   \n",
       "11  312  Wednesday       73.9      57.9     0.02           2,565   \n",
       "12  313   Thursday       64.0      48.9        0           3,353   \n",
       "13  314     Friday       64.9      48.9        0           2,942   \n",
       "14  315   Saturday       64.9      52.0        0           2,253   \n",
       "15  316     Sunday       84.9      62.1        T           2,877   \n",
       "16  317     Monday       73.9      64.0        T           3,152   \n",
       "17  318    Tuesday       66.0      50.0        0           3,415   \n",
       "18  319  Wednesday       52.0      45.0        T           1,965   \n",
       "19  320   Thursday       64.9      50.0     0.17           1,567   \n",
       "20  321     Friday       53.1      48.0     0.29           1,426   \n",
       "21  322   Saturday       55.9      52.0     0.11           1,318   \n",
       "22  323     Sunday       64.9      46.9        0           2,520   \n",
       "23  324     Monday       60.1      50.0        T           2,544   \n",
       "24  325    Tuesday       54.0      50.0     0.91             611   \n",
       "25  326  Wednesday       59.0      54.0     0.34           1,247   \n",
       "26  327   Thursday       68.0      59.0        0           2,959   \n",
       "27  328     Friday       82.9      57.9        0           3,679   \n",
       "28  329   Saturday       84.0      64.0     0.06           3,315   \n",
       "29  330     Sunday       64.0      54.0        0           2,225   \n",
       "\n",
       "   manhattan_bridge williamsburg_bridge queensboro_bridge total_cyclists  \\\n",
       "0             1,446               1,915             1,430          5,397   \n",
       "1             3,943               4,207             2,862         13,033   \n",
       "2             4,988               5,178             3,689         16,325   \n",
       "3             1,913               2,279             1,666          6,581   \n",
       "4             5,276               5,711             4,197         17,991   \n",
       "5             1,324               1,739             1,372          4,896   \n",
       "6             2,955               3,399             2,765         10,341   \n",
       "7             3,163               4,082             2,691         11,610   \n",
       "8             4,377               4,886             3,261         14,899   \n",
       "9             6,359               6,881             4,731         21,295   \n",
       "10            7,247               8,079             5,501         24,714   \n",
       "11            5,633               6,620             4,537         19,355   \n",
       "12            6,052               6,775             4,700         20,880   \n",
       "13            5,054               5,877             4,142         18,015   \n",
       "14            3,853               4,965             3,291         14,362   \n",
       "15            4,585               5,259             3,687         16,408   \n",
       "16            6,352               6,924             4,658         21,086   \n",
       "17            6,691               7,341             5,012         22,459   \n",
       "18            4,632               5,234             3,996         15,827   \n",
       "19            3,365               4,302             3,056         12,290   \n",
       "20            3,142               3,674             2,672         10,914   \n",
       "21            2,297               2,963             2,366          8,944   \n",
       "22            4,681               5,105             3,434         15,740   \n",
       "23            5,366               5,762             4,183         17,855   \n",
       "24            1,402               1,902             1,578          5,493   \n",
       "25            2,774               3,429             2,369          9,819   \n",
       "26            5,311               6,026             4,285         18,581   \n",
       "27            6,774               7,196             5,138         22,787   \n",
       "28            5,605               6,045             4,078         19,043   \n",
       "29            4,057               4,513             3,137         13,932   \n",
       "\n",
       "   Unnamed: 10  \n",
       "0          NaN  \n",
       "1          NaN  \n",
       "2          NaN  \n",
       "3          NaN  \n",
       "4          NaN  \n",
       "5          NaN  \n",
       "6          NaN  \n",
       "7          NaN  \n",
       "8          NaN  \n",
       "9          NaN  \n",
       "10         NaN  \n",
       "11         NaN  \n",
       "12         NaN  \n",
       "13         NaN  \n",
       "14         NaN  \n",
       "15         NaN  \n",
       "16         NaN  \n",
       "17         NaN  \n",
       "18              \n",
       "19         NaN  \n",
       "20         NaN  \n",
       "21         NaN  \n",
       "22         NaN  \n",
       "23         NaN  \n",
       "24         NaN  \n",
       "25         NaN  \n",
       "26         NaN  \n",
       "27         NaN  \n",
       "28         NaN  \n",
       "29         NaN  "
      ]
     },
     "execution_count": 16,
     "metadata": {},
     "output_type": "execute_result"
    }
   ],
   "source": [
    "bike.head(31)"
   ]
  },
  {
   "cell_type": "code",
   "execution_count": 17,
   "id": "3dd388f0",
   "metadata": {},
   "outputs": [],
   "source": [
    "bike['day'] = bike['day'].str.replace('Sunday', '0')"
   ]
  },
  {
   "cell_type": "code",
   "execution_count": 18,
   "id": "55bf04f2",
   "metadata": {},
   "outputs": [],
   "source": [
    "bike['day'] = bike['day'].str.replace('Monday', '1')"
   ]
  },
  {
   "cell_type": "code",
   "execution_count": 19,
   "id": "20ee9e59",
   "metadata": {},
   "outputs": [],
   "source": [
    "bike['day'] = bike['day'].str.replace('Tuesday', '2')"
   ]
  },
  {
   "cell_type": "code",
   "execution_count": 20,
   "id": "a8015828",
   "metadata": {},
   "outputs": [],
   "source": [
    "bike['day'] = bike['day'].str.replace('Wednesday', '3')"
   ]
  },
  {
   "cell_type": "code",
   "execution_count": 21,
   "id": "8c87468e",
   "metadata": {},
   "outputs": [],
   "source": [
    "bike['day'] = bike['day'].str.replace('Thursday', '4')"
   ]
  },
  {
   "cell_type": "code",
   "execution_count": 22,
   "id": "033ce14f",
   "metadata": {},
   "outputs": [],
   "source": [
    "bike['day'] = bike['day'].str.replace('Friday', '5')"
   ]
  },
  {
   "cell_type": "code",
   "execution_count": 23,
   "id": "5ac24aa5",
   "metadata": {},
   "outputs": [],
   "source": [
    "bike['day'] = bike['day'].str.replace('Saturday', '6')"
   ]
  },
  {
   "cell_type": "code",
   "execution_count": 24,
   "id": "5337403a",
   "metadata": {},
   "outputs": [],
   "source": [
    "bike['day'] = pd.to_numeric(bike['day'], errors='coerce')"
   ]
  },
  {
   "cell_type": "code",
   "execution_count": 25,
   "id": "33e334ad",
   "metadata": {},
   "outputs": [],
   "source": [
    "bike['rain_amt'] = bike['rain_amt'].str.replace('T', '-0.1')"
   ]
  },
  {
   "cell_type": "code",
   "execution_count": 26,
   "id": "ce7a003f",
   "metadata": {},
   "outputs": [],
   "source": [
    "bike['rain_amt'] = pd.to_numeric(bike['rain_amt'], errors='coerce')"
   ]
  },
  {
   "cell_type": "code",
   "execution_count": 27,
   "id": "84fd204d",
   "metadata": {},
   "outputs": [],
   "source": [
    "bike = bike.drop('Unnamed: 10', axis=1)"
   ]
  },
  {
   "cell_type": "code",
   "execution_count": 28,
   "id": "d497948e",
   "metadata": {},
   "outputs": [
    {
     "data": {
      "text/plain": [
       "date                    object\n",
       "day                      int64\n",
       "temp_high              float64\n",
       "temp_low               float64\n",
       "rain_amt               float64\n",
       "brooklyn_bridge         object\n",
       "manhattan_bridge        object\n",
       "williamsburg_bridge     object\n",
       "queensboro_bridge       object\n",
       "total_cyclists          object\n",
       "dtype: object"
      ]
     },
     "execution_count": 28,
     "metadata": {},
     "output_type": "execute_result"
    }
   ],
   "source": [
    "bike.dtypes"
   ]
  },
  {
   "cell_type": "code",
   "execution_count": 29,
   "id": "9a99d43d",
   "metadata": {},
   "outputs": [],
   "source": [
    "bike['date'] = pd.to_numeric(bike['date'], errors='coerce')"
   ]
  },
  {
   "cell_type": "code",
   "execution_count": 30,
   "id": "f481ef7e",
   "metadata": {},
   "outputs": [],
   "source": [
    "bike['brooklyn_bridge'] = bike['brooklyn_bridge'].str.replace(',', '')"
   ]
  },
  {
   "cell_type": "code",
   "execution_count": 31,
   "id": "848b22cc",
   "metadata": {},
   "outputs": [],
   "source": [
    "bike['brooklyn_bridge'] = pd.to_numeric(bike['brooklyn_bridge'], errors='coerce')"
   ]
  },
  {
   "cell_type": "code",
   "execution_count": 32,
   "id": "bc9af7eb",
   "metadata": {},
   "outputs": [],
   "source": [
    "bike['manhattan_bridge'] = bike['manhattan_bridge'].str.replace(',', '')"
   ]
  },
  {
   "cell_type": "code",
   "execution_count": 33,
   "id": "f44fc1fe",
   "metadata": {},
   "outputs": [],
   "source": [
    "bike['manhattan_bridge'] = pd.to_numeric(bike['manhattan_bridge'], errors='coerce')"
   ]
  },
  {
   "cell_type": "code",
   "execution_count": 34,
   "id": "062ba52b",
   "metadata": {},
   "outputs": [],
   "source": [
    "bike['williamsburg_bridge'] = bike['williamsburg_bridge'].str.replace(',', '')"
   ]
  },
  {
   "cell_type": "code",
   "execution_count": 35,
   "id": "8a89cc77",
   "metadata": {},
   "outputs": [],
   "source": [
    "bike['williamsburg_bridge'] = pd.to_numeric(bike['williamsburg_bridge'], errors='coerce')"
   ]
  },
  {
   "cell_type": "code",
   "execution_count": 36,
   "id": "0aabc650",
   "metadata": {},
   "outputs": [],
   "source": [
    "bike['queensboro_bridge'] = bike['queensboro_bridge'].str.replace(',', '')"
   ]
  },
  {
   "cell_type": "code",
   "execution_count": 37,
   "id": "67e08c4e",
   "metadata": {},
   "outputs": [],
   "source": [
    "bike['queensboro_bridge'] = pd.to_numeric(bike['queensboro_bridge'], errors='coerce')"
   ]
  },
  {
   "cell_type": "code",
   "execution_count": 38,
   "id": "e45b9907",
   "metadata": {},
   "outputs": [],
   "source": [
    "bike['total_cyclists'] = bike['total_cyclists'].str.replace(',', '')"
   ]
  },
  {
   "cell_type": "code",
   "execution_count": 39,
   "id": "66a4d247",
   "metadata": {},
   "outputs": [],
   "source": [
    "bike['total_cyclists'] = pd.to_numeric(bike['total_cyclists'], errors='coerce')"
   ]
  },
  {
   "cell_type": "code",
   "execution_count": 40,
   "id": "e06017fd",
   "metadata": {},
   "outputs": [
    {
     "data": {
      "text/plain": [
       "date                     int64\n",
       "day                      int64\n",
       "temp_high              float64\n",
       "temp_low               float64\n",
       "rain_amt               float64\n",
       "brooklyn_bridge          int64\n",
       "manhattan_bridge         int64\n",
       "williamsburg_bridge      int64\n",
       "queensboro_bridge        int64\n",
       "total_cyclists           int64\n",
       "dtype: object"
      ]
     },
     "execution_count": 40,
     "metadata": {},
     "output_type": "execute_result"
    }
   ],
   "source": [
    "bike.dtypes"
   ]
  },
  {
   "cell_type": "code",
   "execution_count": 41,
   "id": "cc539e09",
   "metadata": {},
   "outputs": [
    {
     "data": {
      "text/html": [
       "<div>\n",
       "<style scoped>\n",
       "    .dataframe tbody tr th:only-of-type {\n",
       "        vertical-align: middle;\n",
       "    }\n",
       "\n",
       "    .dataframe tbody tr th {\n",
       "        vertical-align: top;\n",
       "    }\n",
       "\n",
       "    .dataframe thead th {\n",
       "        text-align: right;\n",
       "    }\n",
       "</style>\n",
       "<table border=\"1\" class=\"dataframe\">\n",
       "  <thead>\n",
       "    <tr style=\"text-align: right;\">\n",
       "      <th></th>\n",
       "      <th>date</th>\n",
       "      <th>day</th>\n",
       "      <th>temp_high</th>\n",
       "      <th>temp_low</th>\n",
       "      <th>rain_amt</th>\n",
       "      <th>brooklyn_bridge</th>\n",
       "      <th>manhattan_bridge</th>\n",
       "      <th>williamsburg_bridge</th>\n",
       "      <th>queensboro_bridge</th>\n",
       "      <th>total_cyclists</th>\n",
       "    </tr>\n",
       "  </thead>\n",
       "  <tbody>\n",
       "    <tr>\n",
       "      <th>0</th>\n",
       "      <td>301</td>\n",
       "      <td>6</td>\n",
       "      <td>46.0</td>\n",
       "      <td>37.0</td>\n",
       "      <td>0.00</td>\n",
       "      <td>606</td>\n",
       "      <td>1446</td>\n",
       "      <td>1915</td>\n",
       "      <td>1430</td>\n",
       "      <td>5397</td>\n",
       "    </tr>\n",
       "    <tr>\n",
       "      <th>1</th>\n",
       "      <td>302</td>\n",
       "      <td>0</td>\n",
       "      <td>62.1</td>\n",
       "      <td>41.0</td>\n",
       "      <td>0.00</td>\n",
       "      <td>2021</td>\n",
       "      <td>3943</td>\n",
       "      <td>4207</td>\n",
       "      <td>2862</td>\n",
       "      <td>13033</td>\n",
       "    </tr>\n",
       "    <tr>\n",
       "      <th>2</th>\n",
       "      <td>303</td>\n",
       "      <td>1</td>\n",
       "      <td>63.0</td>\n",
       "      <td>50.0</td>\n",
       "      <td>0.03</td>\n",
       "      <td>2470</td>\n",
       "      <td>4988</td>\n",
       "      <td>5178</td>\n",
       "      <td>3689</td>\n",
       "      <td>16325</td>\n",
       "    </tr>\n",
       "    <tr>\n",
       "      <th>3</th>\n",
       "      <td>304</td>\n",
       "      <td>2</td>\n",
       "      <td>51.1</td>\n",
       "      <td>46.0</td>\n",
       "      <td>1.18</td>\n",
       "      <td>723</td>\n",
       "      <td>1913</td>\n",
       "      <td>2279</td>\n",
       "      <td>1666</td>\n",
       "      <td>6581</td>\n",
       "    </tr>\n",
       "    <tr>\n",
       "      <th>4</th>\n",
       "      <td>305</td>\n",
       "      <td>3</td>\n",
       "      <td>63.0</td>\n",
       "      <td>46.0</td>\n",
       "      <td>0.00</td>\n",
       "      <td>2807</td>\n",
       "      <td>5276</td>\n",
       "      <td>5711</td>\n",
       "      <td>4197</td>\n",
       "      <td>17991</td>\n",
       "    </tr>\n",
       "    <tr>\n",
       "      <th>5</th>\n",
       "      <td>306</td>\n",
       "      <td>4</td>\n",
       "      <td>48.9</td>\n",
       "      <td>41.0</td>\n",
       "      <td>0.73</td>\n",
       "      <td>461</td>\n",
       "      <td>1324</td>\n",
       "      <td>1739</td>\n",
       "      <td>1372</td>\n",
       "      <td>4896</td>\n",
       "    </tr>\n",
       "    <tr>\n",
       "      <th>6</th>\n",
       "      <td>307</td>\n",
       "      <td>5</td>\n",
       "      <td>48.0</td>\n",
       "      <td>43.0</td>\n",
       "      <td>-0.10</td>\n",
       "      <td>1222</td>\n",
       "      <td>2955</td>\n",
       "      <td>3399</td>\n",
       "      <td>2765</td>\n",
       "      <td>10341</td>\n",
       "    </tr>\n",
       "    <tr>\n",
       "      <th>7</th>\n",
       "      <td>308</td>\n",
       "      <td>6</td>\n",
       "      <td>55.9</td>\n",
       "      <td>39.9</td>\n",
       "      <td>0.00</td>\n",
       "      <td>1674</td>\n",
       "      <td>3163</td>\n",
       "      <td>4082</td>\n",
       "      <td>2691</td>\n",
       "      <td>11610</td>\n",
       "    </tr>\n",
       "    <tr>\n",
       "      <th>8</th>\n",
       "      <td>309</td>\n",
       "      <td>0</td>\n",
       "      <td>66.0</td>\n",
       "      <td>45.0</td>\n",
       "      <td>0.00</td>\n",
       "      <td>2375</td>\n",
       "      <td>4377</td>\n",
       "      <td>4886</td>\n",
       "      <td>3261</td>\n",
       "      <td>14899</td>\n",
       "    </tr>\n",
       "    <tr>\n",
       "      <th>9</th>\n",
       "      <td>310</td>\n",
       "      <td>1</td>\n",
       "      <td>73.9</td>\n",
       "      <td>55.0</td>\n",
       "      <td>0.00</td>\n",
       "      <td>3324</td>\n",
       "      <td>6359</td>\n",
       "      <td>6881</td>\n",
       "      <td>4731</td>\n",
       "      <td>21295</td>\n",
       "    </tr>\n",
       "    <tr>\n",
       "      <th>10</th>\n",
       "      <td>311</td>\n",
       "      <td>2</td>\n",
       "      <td>80.1</td>\n",
       "      <td>62.1</td>\n",
       "      <td>0.00</td>\n",
       "      <td>3887</td>\n",
       "      <td>7247</td>\n",
       "      <td>8079</td>\n",
       "      <td>5501</td>\n",
       "      <td>24714</td>\n",
       "    </tr>\n",
       "    <tr>\n",
       "      <th>11</th>\n",
       "      <td>312</td>\n",
       "      <td>3</td>\n",
       "      <td>73.9</td>\n",
       "      <td>57.9</td>\n",
       "      <td>0.02</td>\n",
       "      <td>2565</td>\n",
       "      <td>5633</td>\n",
       "      <td>6620</td>\n",
       "      <td>4537</td>\n",
       "      <td>19355</td>\n",
       "    </tr>\n",
       "    <tr>\n",
       "      <th>12</th>\n",
       "      <td>313</td>\n",
       "      <td>4</td>\n",
       "      <td>64.0</td>\n",
       "      <td>48.9</td>\n",
       "      <td>0.00</td>\n",
       "      <td>3353</td>\n",
       "      <td>6052</td>\n",
       "      <td>6775</td>\n",
       "      <td>4700</td>\n",
       "      <td>20880</td>\n",
       "    </tr>\n",
       "    <tr>\n",
       "      <th>13</th>\n",
       "      <td>314</td>\n",
       "      <td>5</td>\n",
       "      <td>64.9</td>\n",
       "      <td>48.9</td>\n",
       "      <td>0.00</td>\n",
       "      <td>2942</td>\n",
       "      <td>5054</td>\n",
       "      <td>5877</td>\n",
       "      <td>4142</td>\n",
       "      <td>18015</td>\n",
       "    </tr>\n",
       "    <tr>\n",
       "      <th>14</th>\n",
       "      <td>315</td>\n",
       "      <td>6</td>\n",
       "      <td>64.9</td>\n",
       "      <td>52.0</td>\n",
       "      <td>0.00</td>\n",
       "      <td>2253</td>\n",
       "      <td>3853</td>\n",
       "      <td>4965</td>\n",
       "      <td>3291</td>\n",
       "      <td>14362</td>\n",
       "    </tr>\n",
       "    <tr>\n",
       "      <th>15</th>\n",
       "      <td>316</td>\n",
       "      <td>0</td>\n",
       "      <td>84.9</td>\n",
       "      <td>62.1</td>\n",
       "      <td>-0.10</td>\n",
       "      <td>2877</td>\n",
       "      <td>4585</td>\n",
       "      <td>5259</td>\n",
       "      <td>3687</td>\n",
       "      <td>16408</td>\n",
       "    </tr>\n",
       "    <tr>\n",
       "      <th>16</th>\n",
       "      <td>317</td>\n",
       "      <td>1</td>\n",
       "      <td>73.9</td>\n",
       "      <td>64.0</td>\n",
       "      <td>-0.10</td>\n",
       "      <td>3152</td>\n",
       "      <td>6352</td>\n",
       "      <td>6924</td>\n",
       "      <td>4658</td>\n",
       "      <td>21086</td>\n",
       "    </tr>\n",
       "    <tr>\n",
       "      <th>17</th>\n",
       "      <td>318</td>\n",
       "      <td>2</td>\n",
       "      <td>66.0</td>\n",
       "      <td>50.0</td>\n",
       "      <td>0.00</td>\n",
       "      <td>3415</td>\n",
       "      <td>6691</td>\n",
       "      <td>7341</td>\n",
       "      <td>5012</td>\n",
       "      <td>22459</td>\n",
       "    </tr>\n",
       "    <tr>\n",
       "      <th>18</th>\n",
       "      <td>319</td>\n",
       "      <td>3</td>\n",
       "      <td>52.0</td>\n",
       "      <td>45.0</td>\n",
       "      <td>-0.10</td>\n",
       "      <td>1965</td>\n",
       "      <td>4632</td>\n",
       "      <td>5234</td>\n",
       "      <td>3996</td>\n",
       "      <td>15827</td>\n",
       "    </tr>\n",
       "    <tr>\n",
       "      <th>19</th>\n",
       "      <td>320</td>\n",
       "      <td>4</td>\n",
       "      <td>64.9</td>\n",
       "      <td>50.0</td>\n",
       "      <td>0.17</td>\n",
       "      <td>1567</td>\n",
       "      <td>3365</td>\n",
       "      <td>4302</td>\n",
       "      <td>3056</td>\n",
       "      <td>12290</td>\n",
       "    </tr>\n",
       "    <tr>\n",
       "      <th>20</th>\n",
       "      <td>321</td>\n",
       "      <td>5</td>\n",
       "      <td>53.1</td>\n",
       "      <td>48.0</td>\n",
       "      <td>0.29</td>\n",
       "      <td>1426</td>\n",
       "      <td>3142</td>\n",
       "      <td>3674</td>\n",
       "      <td>2672</td>\n",
       "      <td>10914</td>\n",
       "    </tr>\n",
       "    <tr>\n",
       "      <th>21</th>\n",
       "      <td>322</td>\n",
       "      <td>6</td>\n",
       "      <td>55.9</td>\n",
       "      <td>52.0</td>\n",
       "      <td>0.11</td>\n",
       "      <td>1318</td>\n",
       "      <td>2297</td>\n",
       "      <td>2963</td>\n",
       "      <td>2366</td>\n",
       "      <td>8944</td>\n",
       "    </tr>\n",
       "    <tr>\n",
       "      <th>22</th>\n",
       "      <td>323</td>\n",
       "      <td>0</td>\n",
       "      <td>64.9</td>\n",
       "      <td>46.9</td>\n",
       "      <td>0.00</td>\n",
       "      <td>2520</td>\n",
       "      <td>4681</td>\n",
       "      <td>5105</td>\n",
       "      <td>3434</td>\n",
       "      <td>15740</td>\n",
       "    </tr>\n",
       "    <tr>\n",
       "      <th>23</th>\n",
       "      <td>324</td>\n",
       "      <td>1</td>\n",
       "      <td>60.1</td>\n",
       "      <td>50.0</td>\n",
       "      <td>-0.10</td>\n",
       "      <td>2544</td>\n",
       "      <td>5366</td>\n",
       "      <td>5762</td>\n",
       "      <td>4183</td>\n",
       "      <td>17855</td>\n",
       "    </tr>\n",
       "    <tr>\n",
       "      <th>24</th>\n",
       "      <td>325</td>\n",
       "      <td>2</td>\n",
       "      <td>54.0</td>\n",
       "      <td>50.0</td>\n",
       "      <td>0.91</td>\n",
       "      <td>611</td>\n",
       "      <td>1402</td>\n",
       "      <td>1902</td>\n",
       "      <td>1578</td>\n",
       "      <td>5493</td>\n",
       "    </tr>\n",
       "    <tr>\n",
       "      <th>25</th>\n",
       "      <td>326</td>\n",
       "      <td>3</td>\n",
       "      <td>59.0</td>\n",
       "      <td>54.0</td>\n",
       "      <td>0.34</td>\n",
       "      <td>1247</td>\n",
       "      <td>2774</td>\n",
       "      <td>3429</td>\n",
       "      <td>2369</td>\n",
       "      <td>9819</td>\n",
       "    </tr>\n",
       "    <tr>\n",
       "      <th>26</th>\n",
       "      <td>327</td>\n",
       "      <td>4</td>\n",
       "      <td>68.0</td>\n",
       "      <td>59.0</td>\n",
       "      <td>0.00</td>\n",
       "      <td>2959</td>\n",
       "      <td>5311</td>\n",
       "      <td>6026</td>\n",
       "      <td>4285</td>\n",
       "      <td>18581</td>\n",
       "    </tr>\n",
       "    <tr>\n",
       "      <th>27</th>\n",
       "      <td>328</td>\n",
       "      <td>5</td>\n",
       "      <td>82.9</td>\n",
       "      <td>57.9</td>\n",
       "      <td>0.00</td>\n",
       "      <td>3679</td>\n",
       "      <td>6774</td>\n",
       "      <td>7196</td>\n",
       "      <td>5138</td>\n",
       "      <td>22787</td>\n",
       "    </tr>\n",
       "    <tr>\n",
       "      <th>28</th>\n",
       "      <td>329</td>\n",
       "      <td>6</td>\n",
       "      <td>84.0</td>\n",
       "      <td>64.0</td>\n",
       "      <td>0.06</td>\n",
       "      <td>3315</td>\n",
       "      <td>5605</td>\n",
       "      <td>6045</td>\n",
       "      <td>4078</td>\n",
       "      <td>19043</td>\n",
       "    </tr>\n",
       "    <tr>\n",
       "      <th>29</th>\n",
       "      <td>330</td>\n",
       "      <td>0</td>\n",
       "      <td>64.0</td>\n",
       "      <td>54.0</td>\n",
       "      <td>0.00</td>\n",
       "      <td>2225</td>\n",
       "      <td>4057</td>\n",
       "      <td>4513</td>\n",
       "      <td>3137</td>\n",
       "      <td>13932</td>\n",
       "    </tr>\n",
       "  </tbody>\n",
       "</table>\n",
       "</div>"
      ],
      "text/plain": [
       "    date  day  temp_high  temp_low  rain_amt  brooklyn_bridge  \\\n",
       "0    301    6       46.0      37.0      0.00              606   \n",
       "1    302    0       62.1      41.0      0.00             2021   \n",
       "2    303    1       63.0      50.0      0.03             2470   \n",
       "3    304    2       51.1      46.0      1.18              723   \n",
       "4    305    3       63.0      46.0      0.00             2807   \n",
       "5    306    4       48.9      41.0      0.73              461   \n",
       "6    307    5       48.0      43.0     -0.10             1222   \n",
       "7    308    6       55.9      39.9      0.00             1674   \n",
       "8    309    0       66.0      45.0      0.00             2375   \n",
       "9    310    1       73.9      55.0      0.00             3324   \n",
       "10   311    2       80.1      62.1      0.00             3887   \n",
       "11   312    3       73.9      57.9      0.02             2565   \n",
       "12   313    4       64.0      48.9      0.00             3353   \n",
       "13   314    5       64.9      48.9      0.00             2942   \n",
       "14   315    6       64.9      52.0      0.00             2253   \n",
       "15   316    0       84.9      62.1     -0.10             2877   \n",
       "16   317    1       73.9      64.0     -0.10             3152   \n",
       "17   318    2       66.0      50.0      0.00             3415   \n",
       "18   319    3       52.0      45.0     -0.10             1965   \n",
       "19   320    4       64.9      50.0      0.17             1567   \n",
       "20   321    5       53.1      48.0      0.29             1426   \n",
       "21   322    6       55.9      52.0      0.11             1318   \n",
       "22   323    0       64.9      46.9      0.00             2520   \n",
       "23   324    1       60.1      50.0     -0.10             2544   \n",
       "24   325    2       54.0      50.0      0.91              611   \n",
       "25   326    3       59.0      54.0      0.34             1247   \n",
       "26   327    4       68.0      59.0      0.00             2959   \n",
       "27   328    5       82.9      57.9      0.00             3679   \n",
       "28   329    6       84.0      64.0      0.06             3315   \n",
       "29   330    0       64.0      54.0      0.00             2225   \n",
       "\n",
       "    manhattan_bridge  williamsburg_bridge  queensboro_bridge  total_cyclists  \n",
       "0               1446                 1915               1430            5397  \n",
       "1               3943                 4207               2862           13033  \n",
       "2               4988                 5178               3689           16325  \n",
       "3               1913                 2279               1666            6581  \n",
       "4               5276                 5711               4197           17991  \n",
       "5               1324                 1739               1372            4896  \n",
       "6               2955                 3399               2765           10341  \n",
       "7               3163                 4082               2691           11610  \n",
       "8               4377                 4886               3261           14899  \n",
       "9               6359                 6881               4731           21295  \n",
       "10              7247                 8079               5501           24714  \n",
       "11              5633                 6620               4537           19355  \n",
       "12              6052                 6775               4700           20880  \n",
       "13              5054                 5877               4142           18015  \n",
       "14              3853                 4965               3291           14362  \n",
       "15              4585                 5259               3687           16408  \n",
       "16              6352                 6924               4658           21086  \n",
       "17              6691                 7341               5012           22459  \n",
       "18              4632                 5234               3996           15827  \n",
       "19              3365                 4302               3056           12290  \n",
       "20              3142                 3674               2672           10914  \n",
       "21              2297                 2963               2366            8944  \n",
       "22              4681                 5105               3434           15740  \n",
       "23              5366                 5762               4183           17855  \n",
       "24              1402                 1902               1578            5493  \n",
       "25              2774                 3429               2369            9819  \n",
       "26              5311                 6026               4285           18581  \n",
       "27              6774                 7196               5138           22787  \n",
       "28              5605                 6045               4078           19043  \n",
       "29              4057                 4513               3137           13932  "
      ]
     },
     "execution_count": 41,
     "metadata": {},
     "output_type": "execute_result"
    }
   ],
   "source": [
    "bike.head(31)"
   ]
  },
  {
   "cell_type": "code",
   "execution_count": 42,
   "id": "8a4a8556",
   "metadata": {},
   "outputs": [],
   "source": [
    "bike.to_csv('jose_vila_cleaned_assignment_7_data.csv')"
   ]
  },
  {
   "cell_type": "markdown",
   "id": "788f498e",
   "metadata": {},
   "source": [
    "### Step 02 - Create and Train the Linear Regression Model"
   ]
  },
  {
   "cell_type": "code",
   "execution_count": 43,
   "id": "88612696",
   "metadata": {},
   "outputs": [],
   "source": [
    "X = bike.drop(['temp_high', 'day', 'total_cyclists', 'brooklyn_bridge', 'manhattan_bridge', 'williamsburg_bridge', 'queensboro_bridge'], axis=1)"
   ]
  },
  {
   "cell_type": "code",
   "execution_count": 44,
   "id": "d71e0927",
   "metadata": {},
   "outputs": [],
   "source": [
    "y = bike['total_cyclists']"
   ]
  },
  {
   "cell_type": "code",
   "execution_count": 45,
   "id": "b9b52ae9",
   "metadata": {},
   "outputs": [],
   "source": [
    "X_train, X_test, y_train, y_test = train_test_split(X, y, test_size=0.1, random_state=123)"
   ]
  },
  {
   "cell_type": "code",
   "execution_count": 46,
   "id": "951d933f",
   "metadata": {},
   "outputs": [],
   "source": [
    "ml_reg = LinearRegression()"
   ]
  },
  {
   "cell_type": "code",
   "execution_count": 47,
   "id": "6299ab25",
   "metadata": {},
   "outputs": [
    {
     "data": {
      "text/html": [
       "<style>#sk-container-id-1 {color: black;}#sk-container-id-1 pre{padding: 0;}#sk-container-id-1 div.sk-toggleable {background-color: white;}#sk-container-id-1 label.sk-toggleable__label {cursor: pointer;display: block;width: 100%;margin-bottom: 0;padding: 0.3em;box-sizing: border-box;text-align: center;}#sk-container-id-1 label.sk-toggleable__label-arrow:before {content: \"▸\";float: left;margin-right: 0.25em;color: #696969;}#sk-container-id-1 label.sk-toggleable__label-arrow:hover:before {color: black;}#sk-container-id-1 div.sk-estimator:hover label.sk-toggleable__label-arrow:before {color: black;}#sk-container-id-1 div.sk-toggleable__content {max-height: 0;max-width: 0;overflow: hidden;text-align: left;background-color: #f0f8ff;}#sk-container-id-1 div.sk-toggleable__content pre {margin: 0.2em;color: black;border-radius: 0.25em;background-color: #f0f8ff;}#sk-container-id-1 input.sk-toggleable__control:checked~div.sk-toggleable__content {max-height: 200px;max-width: 100%;overflow: auto;}#sk-container-id-1 input.sk-toggleable__control:checked~label.sk-toggleable__label-arrow:before {content: \"▾\";}#sk-container-id-1 div.sk-estimator input.sk-toggleable__control:checked~label.sk-toggleable__label {background-color: #d4ebff;}#sk-container-id-1 div.sk-label input.sk-toggleable__control:checked~label.sk-toggleable__label {background-color: #d4ebff;}#sk-container-id-1 input.sk-hidden--visually {border: 0;clip: rect(1px 1px 1px 1px);clip: rect(1px, 1px, 1px, 1px);height: 1px;margin: -1px;overflow: hidden;padding: 0;position: absolute;width: 1px;}#sk-container-id-1 div.sk-estimator {font-family: monospace;background-color: #f0f8ff;border: 1px dotted black;border-radius: 0.25em;box-sizing: border-box;margin-bottom: 0.5em;}#sk-container-id-1 div.sk-estimator:hover {background-color: #d4ebff;}#sk-container-id-1 div.sk-parallel-item::after {content: \"\";width: 100%;border-bottom: 1px solid gray;flex-grow: 1;}#sk-container-id-1 div.sk-label:hover label.sk-toggleable__label {background-color: #d4ebff;}#sk-container-id-1 div.sk-serial::before {content: \"\";position: absolute;border-left: 1px solid gray;box-sizing: border-box;top: 0;bottom: 0;left: 50%;z-index: 0;}#sk-container-id-1 div.sk-serial {display: flex;flex-direction: column;align-items: center;background-color: white;padding-right: 0.2em;padding-left: 0.2em;position: relative;}#sk-container-id-1 div.sk-item {position: relative;z-index: 1;}#sk-container-id-1 div.sk-parallel {display: flex;align-items: stretch;justify-content: center;background-color: white;position: relative;}#sk-container-id-1 div.sk-item::before, #sk-container-id-1 div.sk-parallel-item::before {content: \"\";position: absolute;border-left: 1px solid gray;box-sizing: border-box;top: 0;bottom: 0;left: 50%;z-index: -1;}#sk-container-id-1 div.sk-parallel-item {display: flex;flex-direction: column;z-index: 1;position: relative;background-color: white;}#sk-container-id-1 div.sk-parallel-item:first-child::after {align-self: flex-end;width: 50%;}#sk-container-id-1 div.sk-parallel-item:last-child::after {align-self: flex-start;width: 50%;}#sk-container-id-1 div.sk-parallel-item:only-child::after {width: 0;}#sk-container-id-1 div.sk-dashed-wrapped {border: 1px dashed gray;margin: 0 0.4em 0.5em 0.4em;box-sizing: border-box;padding-bottom: 0.4em;background-color: white;}#sk-container-id-1 div.sk-label label {font-family: monospace;font-weight: bold;display: inline-block;line-height: 1.2em;}#sk-container-id-1 div.sk-label-container {text-align: center;}#sk-container-id-1 div.sk-container {/* jupyter's `normalize.less` sets `[hidden] { display: none; }` but bootstrap.min.css set `[hidden] { display: none !important; }` so we also need the `!important` here to be able to override the default hidden behavior on the sphinx rendered scikit-learn.org. See: https://github.com/scikit-learn/scikit-learn/issues/21755 */display: inline-block !important;position: relative;}#sk-container-id-1 div.sk-text-repr-fallback {display: none;}</style><div id=\"sk-container-id-1\" class=\"sk-top-container\"><div class=\"sk-text-repr-fallback\"><pre>LinearRegression()</pre><b>In a Jupyter environment, please rerun this cell to show the HTML representation or trust the notebook. <br />On GitHub, the HTML representation is unable to render, please try loading this page with nbviewer.org.</b></div><div class=\"sk-container\" hidden><div class=\"sk-item\"><div class=\"sk-estimator sk-toggleable\"><input class=\"sk-toggleable__control sk-hidden--visually\" id=\"sk-estimator-id-1\" type=\"checkbox\" checked><label for=\"sk-estimator-id-1\" class=\"sk-toggleable__label sk-toggleable__label-arrow\">LinearRegression</label><div class=\"sk-toggleable__content\"><pre>LinearRegression()</pre></div></div></div></div></div>"
      ],
      "text/plain": [
       "LinearRegression()"
      ]
     },
     "execution_count": 47,
     "metadata": {},
     "output_type": "execute_result"
    }
   ],
   "source": [
    "ml_reg.fit(X_train, y_train)"
   ]
  },
  {
   "cell_type": "code",
   "execution_count": 48,
   "id": "152b74c0",
   "metadata": {},
   "outputs": [],
   "source": [
    "y_pred_ml_reg = ml_reg.predict(X_train)"
   ]
  },
  {
   "cell_type": "code",
   "execution_count": 49,
   "id": "b8febac5",
   "metadata": {},
   "outputs": [
    {
     "data": {
      "text/plain": [
       "array([18861.84083942, 14246.95854265, 18286.08747784, 15622.08341833,\n",
       "       15182.83815846, 19513.55096083, 16064.18813511, 14289.88839109,\n",
       "       15043.26472456,  4206.85065843,  6625.09351063, 22886.30159738,\n",
       "       16819.2674309 , 11832.05045703, 18590.16125027, 22132.6073727 ,\n",
       "       13586.58823915, 11408.07895222, 13092.3864873 , 13852.89256128,\n",
       "       21648.23129115, 13917.62487207, 15668.10130019, 14463.06095969,\n",
       "       20345.51493452, 16714.6933051 , 15533.79417171])"
      ]
     },
     "execution_count": 49,
     "metadata": {},
     "output_type": "execute_result"
    }
   ],
   "source": [
    "y_pred_ml_reg"
   ]
  },
  {
   "cell_type": "code",
   "execution_count": 50,
   "id": "bf2ae6a8",
   "metadata": {},
   "outputs": [
    {
     "data": {
      "text/plain": [
       "temp_low     443.15\n",
       "date         -88.29\n",
       "rain_amt   -9258.22\n",
       "dtype: float64"
      ]
     },
     "execution_count": 50,
     "metadata": {},
     "output_type": "execute_result"
    }
   ],
   "source": [
    "pd.Series(ml_reg.coef_, index=X_train.columns).sort_values(ascending=False).round(2)"
   ]
  },
  {
   "cell_type": "code",
   "execution_count": 51,
   "id": "19ee81b2",
   "metadata": {},
   "outputs": [
    {
     "data": {
      "text/plain": [
       "0.8321568431489657"
      ]
     },
     "execution_count": 51,
     "metadata": {},
     "output_type": "execute_result"
    }
   ],
   "source": [
    "ml_reg.score(X_test, y_test)"
   ]
  },
  {
   "cell_type": "code",
   "execution_count": 52,
   "id": "c69e9823",
   "metadata": {},
   "outputs": [],
   "source": [
    "mse_ml_reg = mean_squared_error(y_true=y_train, y_pred=y_pred_ml_reg)"
   ]
  },
  {
   "cell_type": "code",
   "execution_count": 53,
   "id": "3f2b2896",
   "metadata": {},
   "outputs": [
    {
     "data": {
      "text/plain": [
       "10955395.345026126"
      ]
     },
     "execution_count": 53,
     "metadata": {},
     "output_type": "execute_result"
    }
   ],
   "source": [
    "mse_ml_reg"
   ]
  },
  {
   "cell_type": "code",
   "execution_count": 54,
   "id": "df2d1940",
   "metadata": {},
   "outputs": [],
   "source": [
    "y_pred_null_model = np.full(y_train.shape, y_train.mean())"
   ]
  },
  {
   "cell_type": "code",
   "execution_count": 55,
   "id": "5ca54609",
   "metadata": {},
   "outputs": [],
   "source": [
    "mse_null_model = mean_squared_error(y_true=y_train, y_pred=y_pred_null_model)"
   ]
  },
  {
   "cell_type": "code",
   "execution_count": 56,
   "id": "061cb20f",
   "metadata": {},
   "outputs": [
    {
     "data": {
      "text/plain": [
       "28125064.677640602"
      ]
     },
     "execution_count": 56,
     "metadata": {},
     "output_type": "execute_result"
    }
   ],
   "source": [
    "mse_null_model"
   ]
  },
  {
   "cell_type": "code",
   "execution_count": 57,
   "id": "baec1441",
   "metadata": {},
   "outputs": [
    {
     "data": {
      "text/plain": [
       "True"
      ]
     },
     "execution_count": 57,
     "metadata": {},
     "output_type": "execute_result"
    }
   ],
   "source": [
    "mse_null_model > mse_ml_reg"
   ]
  },
  {
   "cell_type": "code",
   "execution_count": 58,
   "id": "a546e3bd",
   "metadata": {},
   "outputs": [
    {
     "data": {
      "text/plain": [
       "17169669.332614474"
      ]
     },
     "execution_count": 58,
     "metadata": {},
     "output_type": "execute_result"
    }
   ],
   "source": [
    "mse_null_model - mse_ml_reg"
   ]
  },
  {
   "cell_type": "markdown",
   "id": "81add8a2",
   "metadata": {},
   "source": [
    "### Step 03 - Create and Train the KNN Model"
   ]
  },
  {
   "cell_type": "code",
   "execution_count": 59,
   "id": "fe1aa905",
   "metadata": {},
   "outputs": [],
   "source": [
    "knn = KNeighborsRegressor(n_neighbors=12) "
   ]
  },
  {
   "cell_type": "code",
   "execution_count": 60,
   "id": "6bc477fb",
   "metadata": {},
   "outputs": [
    {
     "data": {
      "text/html": [
       "<style>#sk-container-id-2 {color: black;}#sk-container-id-2 pre{padding: 0;}#sk-container-id-2 div.sk-toggleable {background-color: white;}#sk-container-id-2 label.sk-toggleable__label {cursor: pointer;display: block;width: 100%;margin-bottom: 0;padding: 0.3em;box-sizing: border-box;text-align: center;}#sk-container-id-2 label.sk-toggleable__label-arrow:before {content: \"▸\";float: left;margin-right: 0.25em;color: #696969;}#sk-container-id-2 label.sk-toggleable__label-arrow:hover:before {color: black;}#sk-container-id-2 div.sk-estimator:hover label.sk-toggleable__label-arrow:before {color: black;}#sk-container-id-2 div.sk-toggleable__content {max-height: 0;max-width: 0;overflow: hidden;text-align: left;background-color: #f0f8ff;}#sk-container-id-2 div.sk-toggleable__content pre {margin: 0.2em;color: black;border-radius: 0.25em;background-color: #f0f8ff;}#sk-container-id-2 input.sk-toggleable__control:checked~div.sk-toggleable__content {max-height: 200px;max-width: 100%;overflow: auto;}#sk-container-id-2 input.sk-toggleable__control:checked~label.sk-toggleable__label-arrow:before {content: \"▾\";}#sk-container-id-2 div.sk-estimator input.sk-toggleable__control:checked~label.sk-toggleable__label {background-color: #d4ebff;}#sk-container-id-2 div.sk-label input.sk-toggleable__control:checked~label.sk-toggleable__label {background-color: #d4ebff;}#sk-container-id-2 input.sk-hidden--visually {border: 0;clip: rect(1px 1px 1px 1px);clip: rect(1px, 1px, 1px, 1px);height: 1px;margin: -1px;overflow: hidden;padding: 0;position: absolute;width: 1px;}#sk-container-id-2 div.sk-estimator {font-family: monospace;background-color: #f0f8ff;border: 1px dotted black;border-radius: 0.25em;box-sizing: border-box;margin-bottom: 0.5em;}#sk-container-id-2 div.sk-estimator:hover {background-color: #d4ebff;}#sk-container-id-2 div.sk-parallel-item::after {content: \"\";width: 100%;border-bottom: 1px solid gray;flex-grow: 1;}#sk-container-id-2 div.sk-label:hover label.sk-toggleable__label {background-color: #d4ebff;}#sk-container-id-2 div.sk-serial::before {content: \"\";position: absolute;border-left: 1px solid gray;box-sizing: border-box;top: 0;bottom: 0;left: 50%;z-index: 0;}#sk-container-id-2 div.sk-serial {display: flex;flex-direction: column;align-items: center;background-color: white;padding-right: 0.2em;padding-left: 0.2em;position: relative;}#sk-container-id-2 div.sk-item {position: relative;z-index: 1;}#sk-container-id-2 div.sk-parallel {display: flex;align-items: stretch;justify-content: center;background-color: white;position: relative;}#sk-container-id-2 div.sk-item::before, #sk-container-id-2 div.sk-parallel-item::before {content: \"\";position: absolute;border-left: 1px solid gray;box-sizing: border-box;top: 0;bottom: 0;left: 50%;z-index: -1;}#sk-container-id-2 div.sk-parallel-item {display: flex;flex-direction: column;z-index: 1;position: relative;background-color: white;}#sk-container-id-2 div.sk-parallel-item:first-child::after {align-self: flex-end;width: 50%;}#sk-container-id-2 div.sk-parallel-item:last-child::after {align-self: flex-start;width: 50%;}#sk-container-id-2 div.sk-parallel-item:only-child::after {width: 0;}#sk-container-id-2 div.sk-dashed-wrapped {border: 1px dashed gray;margin: 0 0.4em 0.5em 0.4em;box-sizing: border-box;padding-bottom: 0.4em;background-color: white;}#sk-container-id-2 div.sk-label label {font-family: monospace;font-weight: bold;display: inline-block;line-height: 1.2em;}#sk-container-id-2 div.sk-label-container {text-align: center;}#sk-container-id-2 div.sk-container {/* jupyter's `normalize.less` sets `[hidden] { display: none; }` but bootstrap.min.css set `[hidden] { display: none !important; }` so we also need the `!important` here to be able to override the default hidden behavior on the sphinx rendered scikit-learn.org. See: https://github.com/scikit-learn/scikit-learn/issues/21755 */display: inline-block !important;position: relative;}#sk-container-id-2 div.sk-text-repr-fallback {display: none;}</style><div id=\"sk-container-id-2\" class=\"sk-top-container\"><div class=\"sk-text-repr-fallback\"><pre>KNeighborsRegressor(n_neighbors=12)</pre><b>In a Jupyter environment, please rerun this cell to show the HTML representation or trust the notebook. <br />On GitHub, the HTML representation is unable to render, please try loading this page with nbviewer.org.</b></div><div class=\"sk-container\" hidden><div class=\"sk-item\"><div class=\"sk-estimator sk-toggleable\"><input class=\"sk-toggleable__control sk-hidden--visually\" id=\"sk-estimator-id-2\" type=\"checkbox\" checked><label for=\"sk-estimator-id-2\" class=\"sk-toggleable__label sk-toggleable__label-arrow\">KNeighborsRegressor</label><div class=\"sk-toggleable__content\"><pre>KNeighborsRegressor(n_neighbors=12)</pre></div></div></div></div></div>"
      ],
      "text/plain": [
       "KNeighborsRegressor(n_neighbors=12)"
      ]
     },
     "execution_count": 60,
     "metadata": {},
     "output_type": "execute_result"
    }
   ],
   "source": [
    "knn.fit(X_train, y_train)"
   ]
  },
  {
   "cell_type": "code",
   "execution_count": 61,
   "id": "4a1978ec",
   "metadata": {},
   "outputs": [],
   "source": [
    "y_pred_knn = knn.predict(X_train)"
   ]
  },
  {
   "cell_type": "code",
   "execution_count": 62,
   "id": "be94004a",
   "metadata": {},
   "outputs": [
    {
     "data": {
      "text/plain": [
       "-1.3672676735969764"
      ]
     },
     "execution_count": 62,
     "metadata": {},
     "output_type": "execute_result"
    }
   ],
   "source": [
    "knn.score(X_test, y_test)"
   ]
  },
  {
   "cell_type": "code",
   "execution_count": 63,
   "id": "fc2cedb6",
   "metadata": {},
   "outputs": [],
   "source": [
    "mse_knn = mean_squared_error(y_true=y_train, y_pred=y_pred_knn)"
   ]
  },
  {
   "cell_type": "code",
   "execution_count": 64,
   "id": "8ab158be",
   "metadata": {},
   "outputs": [
    {
     "data": {
      "text/plain": [
       "22301001.486111112"
      ]
     },
     "execution_count": 64,
     "metadata": {},
     "output_type": "execute_result"
    }
   ],
   "source": [
    "mse_knn"
   ]
  },
  {
   "cell_type": "code",
   "execution_count": 65,
   "id": "d7579f87",
   "metadata": {},
   "outputs": [
    {
     "data": {
      "text/plain": [
       "True"
      ]
     },
     "execution_count": 65,
     "metadata": {},
     "output_type": "execute_result"
    }
   ],
   "source": [
    "mse_null_model > mse_knn"
   ]
  },
  {
   "cell_type": "code",
   "execution_count": 66,
   "id": "caed113c",
   "metadata": {},
   "outputs": [
    {
     "data": {
      "text/plain": [
       "5824063.19152949"
      ]
     },
     "execution_count": 66,
     "metadata": {},
     "output_type": "execute_result"
    }
   ],
   "source": [
    "mse_null_model - mse_knn"
   ]
  },
  {
   "cell_type": "code",
   "execution_count": 67,
   "id": "3c4786b2",
   "metadata": {},
   "outputs": [
    {
     "data": {
      "text/plain": [
       "True"
      ]
     },
     "execution_count": 67,
     "metadata": {},
     "output_type": "execute_result"
    }
   ],
   "source": [
    "mse_knn > mse_ml_reg"
   ]
  },
  {
   "cell_type": "code",
   "execution_count": 68,
   "id": "9b1cc3b0",
   "metadata": {},
   "outputs": [
    {
     "data": {
      "text/plain": [
       "11345606.141084986"
      ]
     },
     "execution_count": 68,
     "metadata": {},
     "output_type": "execute_result"
    }
   ],
   "source": [
    "mse_knn - mse_ml_reg"
   ]
  }
 ],
 "metadata": {
  "kernelspec": {
   "display_name": "Python 3 (ipykernel)",
   "language": "python",
   "name": "python3"
  },
  "language_info": {
   "codemirror_mode": {
    "name": "ipython",
    "version": 3
   },
   "file_extension": ".py",
   "mimetype": "text/x-python",
   "name": "python",
   "nbconvert_exporter": "python",
   "pygments_lexer": "ipython3",
   "version": "3.10.9"
  }
 },
 "nbformat": 4,
 "nbformat_minor": 5
}
